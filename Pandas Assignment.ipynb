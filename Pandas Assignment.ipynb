{
 "cells": [
  {
   "cell_type": "markdown",
   "metadata": {},
   "source": [
    "# Pandas Assignment"
   ]
  },
  {
   "cell_type": "markdown",
   "metadata": {},
   "source": [
    "# Problem Statement 1"
   ]
  },
  {
   "cell_type": "markdown",
   "metadata": {},
   "source": [
    "2.2.1.1: How-to-count-distance-to-the-previous-zero\n",
    "For each value, count the difference of the distance from the previous zero (or the start of the Series, whichever is closer) and if there are no previous zeros, print the position\n",
    "Consider a DataFrame df where there is an integer column {'X'[7, 2, 0, 3, 4, 2, 5, 0, 3, 4]}\n",
    "The values should therefore be [1, 2, 0, 1, 2, 3, 4, 0, 1, 2]. Make this a new column 'Y'."
   ]
  },
  {
   "cell_type": "code",
   "execution_count": 3,
   "metadata": {},
   "outputs": [
    {
     "name": "stdout",
     "output_type": "stream",
     "text": [
      "   X    Y\n",
      "0  7  1.0\n",
      "1  2  2.0\n",
      "2  0  0.0\n",
      "3  3  1.0\n",
      "4  4  2.0\n",
      "5  2  3.0\n",
      "6  5  4.0\n",
      "7  0  0.0\n",
      "8  3  1.0\n",
      "9  4  2.0\n"
     ]
    }
   ],
   "source": [
    "import pandas as pd\n",
    "import numpy as np\n",
    "\n",
    "df = pd.DataFrame({'X': [7, 2, 0, 3, 4, 2, 5, 0, 3, 4]})\n",
    "\n",
    "x = (df['X'] != 0).cumsum() \n",
    "y = x != x.shift()\n",
    "\n",
    "df['Y'] = y.groupby((y != y.shift()).cumsum()).cumsum()\n",
    "\n",
    "x = (df['X'] != 0).cumsum()\n",
    "y = x != x.shift()\n",
    "\n",
    "df['Y'] = y.groupby((y != y.shift()).cumsum()).cumsum()\n",
    "\n",
    "print(df)\n",
    "\n"
   ]
  },
  {
   "cell_type": "markdown",
   "metadata": {},
   "source": [
    "2.2.1.2 Create a DatetimeIndex that contains each business day of 2015 and use it to index a Series of random numbers."
   ]
  },
  {
   "cell_type": "code",
   "execution_count": 17,
   "metadata": {},
   "outputs": [
    {
     "name": "stdout",
     "output_type": "stream",
     "text": [
      "2015-01-01    0.984858\n",
      "2015-01-02    0.706966\n",
      "2015-01-03    0.862750\n",
      "2015-01-04    0.300021\n",
      "2015-01-05    0.618004\n",
      "2015-01-06    0.783022\n",
      "2015-01-07    0.519104\n",
      "2015-01-08    0.482429\n",
      "2015-01-09    0.352682\n",
      "2015-01-10    0.998686\n",
      "2015-01-11    0.858370\n",
      "2015-01-12    0.373559\n",
      "2015-01-13    0.623506\n",
      "2015-01-14    0.592847\n",
      "2015-01-15    0.149921\n",
      "2015-01-16    0.559957\n",
      "2015-01-17    0.386560\n",
      "2015-01-18    0.794105\n",
      "2015-01-19    0.788096\n",
      "2015-01-20    0.279767\n",
      "2015-01-21    0.026465\n",
      "2015-01-22    0.882307\n",
      "2015-01-23    0.269496\n",
      "2015-01-24    0.629824\n",
      "2015-01-25    0.917419\n",
      "2015-01-26    0.605532\n",
      "2015-01-27    0.715210\n",
      "2015-01-28    0.353622\n",
      "2015-01-29    0.402349\n",
      "2015-01-30    0.402956\n",
      "                ...   \n",
      "2015-12-02    0.531862\n",
      "2015-12-03    0.142749\n",
      "2015-12-04    0.904388\n",
      "2015-12-05    0.202971\n",
      "2015-12-06    0.732232\n",
      "2015-12-07    0.805776\n",
      "2015-12-08    0.641687\n",
      "2015-12-09    0.673613\n",
      "2015-12-10    0.527415\n",
      "2015-12-11    0.265786\n",
      "2015-12-12    0.896060\n",
      "2015-12-13    0.608198\n",
      "2015-12-14    0.233332\n",
      "2015-12-15    0.396479\n",
      "2015-12-16    0.693083\n",
      "2015-12-17    0.074629\n",
      "2015-12-18    0.569578\n",
      "2015-12-19    0.882052\n",
      "2015-12-20    0.819492\n",
      "2015-12-21    0.864450\n",
      "2015-12-22    0.901539\n",
      "2015-12-23    0.746674\n",
      "2015-12-24    0.881255\n",
      "2015-12-25    0.658611\n",
      "2015-12-26    0.400465\n",
      "2015-12-27    0.590091\n",
      "2015-12-28    0.040924\n",
      "2015-12-29    0.586344\n",
      "2015-12-30    0.775182\n",
      "2015-12-31    0.240379\n",
      "Freq: D, Length: 365, dtype: float64\n"
     ]
    }
   ],
   "source": [
    "import pandas as pd\n",
    "import numpy as np\n",
    "\n",
    "dateindex= pd.date_range(start='2015-01-01', end='2015-12-31')\n",
    "out_series= pd.Series(data=np.random.rand(len(dateindex)), index= dateindex)\n",
    "print(out_series)"
   ]
  },
  {
   "cell_type": "markdown",
   "metadata": {},
   "source": [
    "2.2.1.3 Find the sum of the values in s for every Wednesday"
   ]
  },
  {
   "cell_type": "code",
   "execution_count": 18,
   "metadata": {},
   "outputs": [
    {
     "data": {
      "text/plain": [
       "26.440564880765525"
      ]
     },
     "execution_count": 18,
     "metadata": {},
     "output_type": "execute_result"
    }
   ],
   "source": [
    "out_series[dateindex.dayofweek == 2].sum()"
   ]
  },
  {
   "cell_type": "markdown",
   "metadata": {},
   "source": [
    "2.2.1.4 Average For each calendar month"
   ]
  },
  {
   "cell_type": "code",
   "execution_count": 19,
   "metadata": {},
   "outputs": [
    {
     "data": {
      "text/plain": [
       "2015-01-31    0.570800\n",
       "2015-02-28    0.463043\n",
       "2015-03-31    0.498975\n",
       "2015-04-30    0.559143\n",
       "2015-05-31    0.436180\n",
       "2015-06-30    0.488033\n",
       "2015-07-31    0.437942\n",
       "2015-08-31    0.419114\n",
       "2015-09-30    0.536251\n",
       "2015-10-31    0.557813\n",
       "2015-11-30    0.580951\n",
       "2015-12-31    0.580343\n",
       "Freq: M, dtype: float64"
      ]
     },
     "execution_count": 19,
     "metadata": {},
     "output_type": "execute_result"
    }
   ],
   "source": [
    "out_series.groupby(pd.Grouper(freq='M')).mean()"
   ]
  },
  {
   "cell_type": "markdown",
   "metadata": {},
   "source": [
    "2.2.1.5 For each group of four consecutive calendar months in s, find the date on which the highest value occurred."
   ]
  },
  {
   "cell_type": "code",
   "execution_count": 23,
   "metadata": {},
   "outputs": [
    {
     "data": {
      "text/plain": [
       "2015-01-31   2015-01-10\n",
       "2015-05-31   2015-02-28\n",
       "2015-09-30   2015-07-31\n",
       "2016-01-31   2015-11-28\n",
       "dtype: datetime64[ns]"
      ]
     },
     "execution_count": 23,
     "metadata": {},
     "output_type": "execute_result"
    }
   ],
   "source": [
    "out_series.groupby(pd.Grouper(freq='4M')).idxmax()"
   ]
  },
  {
   "cell_type": "markdown",
   "metadata": {},
   "source": [
    "# Problem Statement 2"
   ]
  },
  {
   "cell_type": "markdown",
   "metadata": {},
   "source": [
    "Read the dataset from the below link\n",
    "https://raw.githubusercontent.com/guipsamora/pandas_exercises/master/06_Stats/US_Baby_Names/US_Baby_Nam es_right.csv"
   ]
  },
  {
   "cell_type": "code",
   "execution_count": 3,
   "metadata": {},
   "outputs": [],
   "source": [
    "import pandas as pd\n",
    "import numpy as np\n",
    "\n",
    "df_baby= pd.read_csv(\"https://raw.githubusercontent.com/guipsamora/pandas_exercises/master/06_Stats/US_Baby_Names/US_Baby_Names_right.csv\")\n"
   ]
  },
  {
   "cell_type": "markdown",
   "metadata": {},
   "source": [
    "2.2.2.1 Delete unnamed columns"
   ]
  },
  {
   "cell_type": "code",
   "execution_count": 7,
   "metadata": {},
   "outputs": [
    {
     "data": {
      "text/html": [
       "<div>\n",
       "<style scoped>\n",
       "    .dataframe tbody tr th:only-of-type {\n",
       "        vertical-align: middle;\n",
       "    }\n",
       "\n",
       "    .dataframe tbody tr th {\n",
       "        vertical-align: top;\n",
       "    }\n",
       "\n",
       "    .dataframe thead th {\n",
       "        text-align: right;\n",
       "    }\n",
       "</style>\n",
       "<table border=\"1\" class=\"dataframe\">\n",
       "  <thead>\n",
       "    <tr style=\"text-align: right;\">\n",
       "      <th></th>\n",
       "      <th>Id</th>\n",
       "      <th>Name</th>\n",
       "      <th>Year</th>\n",
       "      <th>Gender</th>\n",
       "      <th>State</th>\n",
       "      <th>Count</th>\n",
       "    </tr>\n",
       "  </thead>\n",
       "  <tbody>\n",
       "    <tr>\n",
       "      <th>0</th>\n",
       "      <td>11350</td>\n",
       "      <td>Emma</td>\n",
       "      <td>2004</td>\n",
       "      <td>F</td>\n",
       "      <td>AK</td>\n",
       "      <td>62</td>\n",
       "    </tr>\n",
       "    <tr>\n",
       "      <th>1</th>\n",
       "      <td>11351</td>\n",
       "      <td>Madison</td>\n",
       "      <td>2004</td>\n",
       "      <td>F</td>\n",
       "      <td>AK</td>\n",
       "      <td>48</td>\n",
       "    </tr>\n",
       "    <tr>\n",
       "      <th>2</th>\n",
       "      <td>11352</td>\n",
       "      <td>Hannah</td>\n",
       "      <td>2004</td>\n",
       "      <td>F</td>\n",
       "      <td>AK</td>\n",
       "      <td>46</td>\n",
       "    </tr>\n",
       "    <tr>\n",
       "      <th>3</th>\n",
       "      <td>11353</td>\n",
       "      <td>Grace</td>\n",
       "      <td>2004</td>\n",
       "      <td>F</td>\n",
       "      <td>AK</td>\n",
       "      <td>44</td>\n",
       "    </tr>\n",
       "    <tr>\n",
       "      <th>4</th>\n",
       "      <td>11354</td>\n",
       "      <td>Emily</td>\n",
       "      <td>2004</td>\n",
       "      <td>F</td>\n",
       "      <td>AK</td>\n",
       "      <td>41</td>\n",
       "    </tr>\n",
       "  </tbody>\n",
       "</table>\n",
       "</div>"
      ],
      "text/plain": [
       "      Id     Name  Year Gender State  Count\n",
       "0  11350     Emma  2004      F    AK     62\n",
       "1  11351  Madison  2004      F    AK     48\n",
       "2  11352   Hannah  2004      F    AK     46\n",
       "3  11353    Grace  2004      F    AK     44\n",
       "4  11354    Emily  2004      F    AK     41"
      ]
     },
     "execution_count": 7,
     "metadata": {},
     "output_type": "execute_result"
    }
   ],
   "source": [
    "df_baby.drop(['Unnamed: 0'],axis = 1, inplace= True)\n",
    "df_baby.head(5)"
   ]
  },
  {
   "cell_type": "markdown",
   "metadata": {},
   "source": [
    "2.2.2.2 Show the distribution of male and female"
   ]
  },
  {
   "cell_type": "code",
   "execution_count": 8,
   "metadata": {},
   "outputs": [
    {
     "data": {
      "text/plain": [
       "F    558846\n",
       "M    457549\n",
       "Name: Gender, dtype: int64"
      ]
     },
     "execution_count": 8,
     "metadata": {},
     "output_type": "execute_result"
    }
   ],
   "source": [
    "df_baby.Gender.value_counts()"
   ]
  },
  {
   "cell_type": "markdown",
   "metadata": {},
   "source": [
    "2.2.2.3 Show the top 5 most preferred names"
   ]
  },
  {
   "cell_type": "code",
   "execution_count": 11,
   "metadata": {},
   "outputs": [
    {
     "data": {
      "text/plain": [
       "Riley     1112\n",
       "Avery     1080\n",
       "Jordan    1073\n",
       "Peyton    1064\n",
       "Hayden    1049\n",
       "Name: Name, dtype: int64"
      ]
     },
     "execution_count": 11,
     "metadata": {},
     "output_type": "execute_result"
    }
   ],
   "source": [
    "df_baby.Name.value_counts().head(5)"
   ]
  },
  {
   "cell_type": "markdown",
   "metadata": {},
   "source": [
    "2.2.2.4 What is the median name occurrence in the dataset"
   ]
  },
  {
   "cell_type": "code",
   "execution_count": 17,
   "metadata": {},
   "outputs": [
    {
     "data": {
      "text/plain": [
       "508197    Kasey\n",
       "Name: Name, dtype: object"
      ]
     },
     "execution_count": 17,
     "metadata": {},
     "output_type": "execute_result"
    }
   ],
   "source": [
    "df_baby[df_baby[\"Id\"] == df_baby[\"Id\"].median()][\"Name\"]"
   ]
  },
  {
   "cell_type": "markdown",
   "metadata": {},
   "source": [
    "2.2.2.5 Distribution of male and female born count by states"
   ]
  },
  {
   "cell_type": "code",
   "execution_count": 19,
   "metadata": {},
   "outputs": [
    {
     "data": {
      "text/plain": [
       "State  Gender\n",
       "AK     M          2587\n",
       "       F          2404\n",
       "AL     F          9878\n",
       "       M          8419\n",
       "AR     F          7171\n",
       "       M          6475\n",
       "AZ     F         14518\n",
       "       M         10820\n",
       "CA     F         45144\n",
       "       M         31637\n",
       "CO     F         11424\n",
       "       M          9183\n",
       "CT     F          6575\n",
       "       M          5733\n",
       "DC     F          3053\n",
       "       M          3000\n",
       "DE     F          2549\n",
       "       M          2440\n",
       "FL     F         25781\n",
       "       M         20070\n",
       "GA     F         19385\n",
       "       M         15454\n",
       "HI     M          3546\n",
       "       F          3255\n",
       "IA     F          7131\n",
       "       M          6307\n",
       "ID     F          4918\n",
       "       M          4833\n",
       "IL     F         21268\n",
       "       M         16828\n",
       "                 ...  \n",
       "OK     F          9519\n",
       "       M          8138\n",
       "OR     F          8604\n",
       "       M          7333\n",
       "PA     F         17480\n",
       "       M         14171\n",
       "RI     F          2558\n",
       "       M          2468\n",
       "SC     F          9465\n",
       "       M          8195\n",
       "SD     M          2908\n",
       "       F          2838\n",
       "TN     F         13063\n",
       "       M         10588\n",
       "TX     F         39760\n",
       "       M         27791\n",
       "UT     F          9515\n",
       "       M          8233\n",
       "VA     F         14759\n",
       "       M         11997\n",
       "VT     M          1618\n",
       "       F          1398\n",
       "WA     F         13329\n",
       "       M         11049\n",
       "WI     F         10549\n",
       "       M          8940\n",
       "WV     F          4305\n",
       "       M          3733\n",
       "WY     M          1904\n",
       "       F          1456\n",
       "Name: Gender, Length: 102, dtype: int64"
      ]
     },
     "execution_count": 19,
     "metadata": {},
     "output_type": "execute_result"
    }
   ],
   "source": [
    "df_baby.groupby([\"State\"]).Gender.value_counts()"
   ]
  },
  {
   "cell_type": "code",
   "execution_count": null,
   "metadata": {},
   "outputs": [],
   "source": []
  },
  {
   "cell_type": "code",
   "execution_count": null,
   "metadata": {},
   "outputs": [],
   "source": []
  }
 ],
 "metadata": {
  "kernelspec": {
   "display_name": "Python 3",
   "language": "python",
   "name": "python3"
  },
  "language_info": {
   "codemirror_mode": {
    "name": "ipython",
    "version": 3
   },
   "file_extension": ".py",
   "mimetype": "text/x-python",
   "name": "python",
   "nbconvert_exporter": "python",
   "pygments_lexer": "ipython3",
   "version": "3.7.1"
  }
 },
 "nbformat": 4,
 "nbformat_minor": 2
}
