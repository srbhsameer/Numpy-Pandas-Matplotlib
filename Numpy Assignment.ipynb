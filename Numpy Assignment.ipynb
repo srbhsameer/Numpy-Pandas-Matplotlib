{
 "cells": [
  {
   "cell_type": "markdown",
   "metadata": {},
   "source": [
    "# Assignment Numpy"
   ]
  },
  {
   "cell_type": "markdown",
   "metadata": {},
   "source": [
    "2.1.1 Write a function so that the columns of the output matrix are powers of the input vector.\n",
    "The order of the powers is determined by the increasing boolean argument. Specifically, when increasing is False, the i-th output column is the input vector raised element-wise to the power of N - i - 1.\n",
    "HINT: Such a matrix with a geometric progression in each row is named for Alexandre-Theophile Vandermonde."
   ]
  },
  {
   "cell_type": "code",
   "execution_count": 5,
   "metadata": {},
   "outputs": [
    {
     "data": {
      "text/plain": [
       "array([[ 1,  1,  1,  1],\n",
       "       [ 8,  4,  2,  1],\n",
       "       [27,  9,  3,  1],\n",
       "       [64, 16,  4,  1]], dtype=int32)"
      ]
     },
     "execution_count": 5,
     "metadata": {},
     "output_type": "execute_result"
    }
   ],
   "source": [
    "import numpy as np\n",
    "x = np.array([1, 2, 3, 4])\n",
    "N=4\n",
    "np.column_stack([x**(N-i -1) for i in range(N)])"
   ]
  },
  {
   "cell_type": "markdown",
   "metadata": {},
   "source": [
    "2.1.2 Given a sequence of n values x1, x2, ..., xn and a window size k>0, the k-th moving average of the given sequence is defined as follows:\n",
    "The moving average sequence has n-k+1 elements as shown below.\n",
    "The moving averages with k=4 of a ten-value sequence (n=10) is shown below\n",
    "i 1 2 3 4 5 6 7 8 9 10\n",
    "===== == == == == == == == == == ==\n",
    "Input 10 20 30 40 50 60 70 80 90 100\n",
    "y1 25 = (10+20+30+40)/4\n",
    "y2 35 = (20+30+40+50)/4\n",
    "y3 45 = (30+40+50+60)/4\n",
    "y4 55 = (40+50+60+70)/4\n",
    "y5 65 = (50+60+70+80)/4\n",
    "y6 75 = (60+70+80+90)/4\n",
    "y7 85 = (70+80+90+100)/4\n",
    "Thus, the moving average sequence has n-k+1=10-4+1=7 values.\n",
    "Question: Write a function to find moving average in an array over a window:\n",
    "Test it over [3, 5, 7, 2, 8, 10, 11, 65, 72, 81, 99, 100, 150] and window of 3."
   ]
  },
  {
   "cell_type": "code",
   "execution_count": 4,
   "metadata": {},
   "outputs": [
    {
     "name": "stdout",
     "output_type": "stream",
     "text": [
      "Enter the Moving average 5\n",
      "Given a sequence of13 valuess :[  3   5   7   2   8  10  11  65  72  81  99 100 150]\n",
      "The moving averages with k=5\n",
      "1:\t8.333333333333334\n",
      "\n",
      "2:\t10.666666666666666\n",
      "\n",
      "3:\t12.666666666666666\n",
      "\n",
      "4:\t32.0\n",
      "\n",
      "5:\t55.333333333333336\n",
      "\n",
      "6:\t79.66666666666667\n",
      "\n",
      "7:\t109.33333333333333\n",
      "\n",
      "8:\t139.0\n",
      "\n",
      "9:\t167.33333333333334\n",
      "\n",
      "the moving average sequence has n-k+1=13-5+1=9values\n"
     ]
    }
   ],
   "source": [
    "import numpy as np\n",
    "def Moving_Average(x,K):\n",
    "    res=[]\n",
    "    N=x.shape[0] # getting the number of elements of an array into the variable N\n",
    "    elmnt=0\n",
    "    count=N-K+1\n",
    "\n",
    "    for i in range(K,N+1):\n",
    "        sumelmnt=0\n",
    "        for j in range (elmnt,i):\n",
    "            sumelmnt=sumelmnt+x[j]\n",
    "        lst=sumelmnt/3\n",
    "        res.append(lst)\n",
    "        elmnt=elmnt+1\n",
    "    print(\"Given a sequence of\"+str(N)+\" valuess :\"+str(x)+\"\\nThe moving averages with k=\"+str(K)+\"\")\n",
    "    for i in range(1,count+1):\n",
    "        print(str(i)+\":\\t\"+str(res[i-1])+\"\\n\")\n",
    "    print(\"the moving average sequence has n-k+1=\" +str(N)+\"-\"+str(K)+\"+1=\"+str(count)+\"values\")\n",
    "\n",
    "inpt = np.array([3, 5, 7, 2, 8, 10, 11, 65, 72, 81, 99, 100, 150])\n",
    "K= int(input(\"Enter the Moving average \"))\n",
    "Moving_Average(inpt,K)"
   ]
  },
  {
   "cell_type": "code",
   "execution_count": null,
   "metadata": {},
   "outputs": [],
   "source": []
  },
  {
   "cell_type": "code",
   "execution_count": null,
   "metadata": {},
   "outputs": [],
   "source": []
  },
  {
   "cell_type": "code",
   "execution_count": null,
   "metadata": {},
   "outputs": [],
   "source": []
  }
 ],
 "metadata": {
  "kernelspec": {
   "display_name": "Python 3",
   "language": "python",
   "name": "python3"
  },
  "language_info": {
   "codemirror_mode": {
    "name": "ipython",
    "version": 3
   },
   "file_extension": ".py",
   "mimetype": "text/x-python",
   "name": "python",
   "nbconvert_exporter": "python",
   "pygments_lexer": "ipython3",
   "version": "3.7.1"
  }
 },
 "nbformat": 4,
 "nbformat_minor": 2
}
